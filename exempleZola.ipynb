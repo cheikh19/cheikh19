{
  "nbformat": 4,
  "nbformat_minor": 0,
  "metadata": {
    "colab": {
      "provenance": [],
      "authorship_tag": "ABX9TyOKA+UWNdoXeRx4GFl3cU7N",
      "include_colab_link": true
    },
    "kernelspec": {
      "name": "python3",
      "display_name": "Python 3"
    },
    "language_info": {
      "name": "python"
    }
  },
  "cells": [
    {
      "cell_type": "markdown",
      "metadata": {
        "id": "view-in-github",
        "colab_type": "text"
      },
      "source": [
        "<a href=\"https://colab.research.google.com/github/cheikh19/cheikh19/blob/main/exempleZola.ipynb\" target=\"_parent\"><img src=\"https://colab.research.google.com/assets/colab-badge.svg\" alt=\"Open In Colab\"/></a>"
      ]
    },
    {
      "cell_type": "code",
      "execution_count": 1,
      "metadata": {
        "colab": {
          "base_uri": "https://localhost:8080/"
        },
        "id": "ViMiblhDbWr1",
        "outputId": "d0a57b5e-f633-43e6-d976-c8cffb677c0a"
      },
      "outputs": [
        {
          "output_type": "stream",
          "name": "stdout",
          "text": [
            "Collecting pyspark\n",
            "  Downloading pyspark-3.4.1.tar.gz (310.8 MB)\n",
            "\u001b[2K     \u001b[90m━━━━━━━━━━━━━━━━━━━━━━━━━━━━━━━━━━━━━━━\u001b[0m \u001b[32m310.8/310.8 MB\u001b[0m \u001b[31m3.1 MB/s\u001b[0m eta \u001b[36m0:00:00\u001b[0m\n",
            "\u001b[?25h  Preparing metadata (setup.py) ... \u001b[?25l\u001b[?25hdone\n",
            "Requirement already satisfied: py4j==0.10.9.7 in /usr/local/lib/python3.10/dist-packages (from pyspark) (0.10.9.7)\n",
            "Building wheels for collected packages: pyspark\n",
            "  Building wheel for pyspark (setup.py) ... \u001b[?25l\u001b[?25hdone\n",
            "  Created wheel for pyspark: filename=pyspark-3.4.1-py2.py3-none-any.whl size=311285397 sha256=d7e05c822da5c04dcabb4a32b507fc92ed380dc8e9fe18c1f05f8dcbdff153d5\n",
            "  Stored in directory: /root/.cache/pip/wheels/0d/77/a3/ff2f74cc9ab41f8f594dabf0579c2a7c6de920d584206e0834\n",
            "Successfully built pyspark\n",
            "Installing collected packages: pyspark\n",
            "Successfully installed pyspark-3.4.1\n"
          ]
        }
      ],
      "source": [
        "!pip install pyspark"
      ]
    },
    {
      "cell_type": "code",
      "source": [
        "from pyspark.sql import SparkSession\n",
        "spark = SparkSession.builder.appName('Modele RF').getOrCreate()\n",
        "\n"
      ],
      "metadata": {
        "id": "-ZLE7Po0bfL7"
      },
      "execution_count": 2,
      "outputs": []
    },
    {
      "cell_type": "code",
      "source": [
        "from pyspark.sql import SparkSession\n",
        "spark = SparkSession.builder.appName('Modele RF').getOrCreate()\n",
        "\n",
        "# Chargez le fichier CSV dans un dataframe Spark\n",
        "diabetes = spark.read.format(\"csv\").option(\"header\", \"true\").option(\"inferSchema\",\"true\").load(\"/content/diabetes.csv\")"
      ],
      "metadata": {
        "id": "_DuLmyckMhJC"
      },
      "execution_count": 3,
      "outputs": []
    },
    {
      "cell_type": "code",
      "source": [
        "from pyspark.ml.classification import RandomForestClassifier\n",
        "from pyspark.ml.evaluation import BinaryClassificationEvaluator\n",
        "from pyspark.ml.feature import VectorAssembler\n",
        "from pyspark.sql.functions import col\n",
        "from pyspark.ml.classification import  LogisticRegression\n",
        "from pyspark.ml.classification import LogisticRegressionModel\n"
      ],
      "metadata": {
        "id": "rqZGb5c5m2B0"
      },
      "execution_count": 131,
      "outputs": []
    },
    {
      "cell_type": "code",
      "source": [
        "#lire le fichier csv\n",
        "diabetes.show()"
      ],
      "metadata": {
        "colab": {
          "base_uri": "https://localhost:8080/"
        },
        "id": "3jHiPblCdxau",
        "outputId": "73b5bd40-b3a4-4232-d8c1-cc6b59565333"
      },
      "execution_count": 67,
      "outputs": [
        {
          "output_type": "stream",
          "name": "stdout",
          "text": [
            "+-----------+-------+-------------+-------------+-------+----+------------------------+---+-------+\n",
            "|Pregnancies|Glucose|BloodPressure|SkinThickness|Insulin| BMI|DiabetesPedigreeFunction|Age|Outcome|\n",
            "+-----------+-------+-------------+-------------+-------+----+------------------------+---+-------+\n",
            "|          2|    138|           62|           35|      0|33.6|                   0.127| 47|      1|\n",
            "|          0|     84|           82|           31|    125|38.2|                   0.233| 23|      0|\n",
            "|          0|    145|            0|            0|      0|44.2|                    0.63| 31|      1|\n",
            "|          0|    135|           68|           42|    250|42.3|                   0.365| 24|      1|\n",
            "|          1|    139|           62|           41|    480|40.7|                   0.536| 21|      0|\n",
            "|          0|    173|           78|           32|    265|46.5|                   1.159| 58|      0|\n",
            "|          4|     99|           72|           17|      0|25.6|                   0.294| 28|      0|\n",
            "|          8|    194|           80|            0|      0|26.1|                   0.551| 67|      0|\n",
            "|          2|     83|           65|           28|     66|36.8|                   0.629| 24|      0|\n",
            "|          2|     89|           90|           30|      0|33.5|                   0.292| 42|      0|\n",
            "|          4|     99|           68|           38|      0|32.8|                   0.145| 33|      0|\n",
            "|          4|    125|           70|           18|    122|28.9|                   1.144| 45|      1|\n",
            "|          3|     80|            0|            0|      0| 0.0|                   0.174| 22|      0|\n",
            "|          6|    166|           74|            0|      0|26.6|                   0.304| 66|      0|\n",
            "|          5|    110|           68|            0|      0|26.0|                   0.292| 30|      0|\n",
            "|          2|     81|           72|           15|     76|30.1|                   0.547| 25|      0|\n",
            "|          7|    195|           70|           33|    145|25.1|                   0.163| 55|      1|\n",
            "|          6|    154|           74|           32|    193|29.3|                   0.839| 39|      0|\n",
            "|          2|    117|           90|           19|     71|25.2|                   0.313| 21|      0|\n",
            "|          3|     84|           72|           32|      0|37.2|                   0.267| 28|      0|\n",
            "+-----------+-------+-------------+-------------+-------+----+------------------------+---+-------+\n",
            "only showing top 20 rows\n",
            "\n"
          ]
        }
      ]
    },
    {
      "cell_type": "code",
      "source": [
        "# vérifier les dimensions du df\n",
        "print ( diabetes . count (), ':' , len ( diabetes . columns ))"
      ],
      "metadata": {
        "colab": {
          "base_uri": "https://localhost:8080/"
        },
        "id": "sjuSFkByd_Eg",
        "outputId": "7372ea18-3eaa-4339-bb3a-7f5860f45f74"
      },
      "execution_count": 68,
      "outputs": [
        {
          "output_type": "stream",
          "name": "stdout",
          "text": [
            "2000 : 9\n"
          ]
        }
      ]
    },
    {
      "cell_type": "code",
      "source": [
        "for col in diabetes.columns:\n",
        "  print(col, \"\\t\", \"with null values: \", diabetes.filter(diabetes[col].isNull()).count())\n",
        "\n"
      ],
      "metadata": {
        "colab": {
          "base_uri": "https://localhost:8080/"
        },
        "id": "wdE01LT6gmeb",
        "outputId": "df6b6603-83c8-49e4-93fc-062b42aa3179"
      },
      "execution_count": 69,
      "outputs": [
        {
          "output_type": "stream",
          "name": "stdout",
          "text": [
            "Pregnancies \t with null values:  0\n",
            "Glucose \t with null values:  0\n",
            "BloodPressure \t with null values:  0\n",
            "SkinThickness \t with null values:  0\n",
            "Insulin \t with null values:  0\n",
            "BMI \t with null values:  0\n",
            "DiabetesPedigreeFunction \t with null values:  0\n",
            "Age \t with null values:  0\n",
            "Outcome \t with null values:  0\n"
          ]
        }
      ]
    },
    {
      "cell_type": "markdown",
      "source": [
        "Notre *dataset* ne contient aucune valeur manquante."
      ],
      "metadata": {
        "id": "l58p32QLhNr5"
      }
    },
    {
      "cell_type": "code",
      "source": [
        "# créer une fonction pour compter le nombre de valeurs 0 et leur pourcentage par colonne\n",
        "for  col  in  diabetes.columns:\n",
        "    num_zeros  =  diabetes . filter( diabetes [ col ] ==  0 ). count ()\n",
        "    total_rows  =  diabetes . count ()\n",
        "    percentage  = ( num_zeros  /  total_rows ) *  100\n",
        "    print ( \"{} : {} ({:.2f}%)\" . format ( col , num_zeros , percentage ))"
      ],
      "metadata": {
        "colab": {
          "base_uri": "https://localhost:8080/"
        },
        "id": "aXXDCnXahb0f",
        "outputId": "779e5115-0db1-40b1-8580-d77fced4a216"
      },
      "execution_count": 70,
      "outputs": [
        {
          "output_type": "stream",
          "name": "stdout",
          "text": [
            "Pregnancies : 301 (15.05%)\n",
            "Glucose : 13 (0.65%)\n",
            "BloodPressure : 90 (4.50%)\n",
            "SkinThickness : 573 (28.65%)\n",
            "Insulin : 956 (47.80%)\n",
            "BMI : 28 (1.40%)\n",
            "DiabetesPedigreeFunction : 0 (0.00%)\n",
            "Age : 0 (0.00%)\n",
            "Outcome : 1316 (65.80%)\n"
          ]
        }
      ]
    },
    {
      "cell_type": "code",
      "source": [
        "# Convertir les colonnes en vecteur\n",
        "featureCols = diabetes.columns[:-1]\n",
        "assembler = VectorAssembler(inputCols=featureCols, outputCol=\"features\")\n",
        "outputCol = assembler.transform(diabetes).select(col(\"features\"), col(\"Outcome\").alias(\"label\"))"
      ],
      "metadata": {
        "colab": {
          "base_uri": "https://localhost:8080/",
          "height": 218
        },
        "id": "QgAQQ602maue",
        "outputId": "adfee202-a188-4b01-8b83-efc529ce0483"
      },
      "execution_count": 71,
      "outputs": [
        {
          "output_type": "error",
          "ename": "TypeError",
          "evalue": "ignored",
          "traceback": [
            "\u001b[0;31m---------------------------------------------------------------------------\u001b[0m",
            "\u001b[0;31mTypeError\u001b[0m                                 Traceback (most recent call last)",
            "\u001b[0;32m<ipython-input-71-603ac443cc82>\u001b[0m in \u001b[0;36m<cell line: 4>\u001b[0;34m()\u001b[0m\n\u001b[1;32m      2\u001b[0m \u001b[0mfeatureCols\u001b[0m \u001b[0;34m=\u001b[0m \u001b[0mdiabetes\u001b[0m\u001b[0;34m.\u001b[0m\u001b[0mcolumns\u001b[0m\u001b[0;34m[\u001b[0m\u001b[0;34m:\u001b[0m\u001b[0;34m-\u001b[0m\u001b[0;36m1\u001b[0m\u001b[0;34m]\u001b[0m\u001b[0;34m\u001b[0m\u001b[0;34m\u001b[0m\u001b[0m\n\u001b[1;32m      3\u001b[0m \u001b[0massembler\u001b[0m \u001b[0;34m=\u001b[0m \u001b[0mVectorAssembler\u001b[0m\u001b[0;34m(\u001b[0m\u001b[0minputCols\u001b[0m\u001b[0;34m=\u001b[0m\u001b[0mfeatureCols\u001b[0m\u001b[0;34m,\u001b[0m \u001b[0moutputCol\u001b[0m\u001b[0;34m=\u001b[0m\u001b[0;34m\"features\"\u001b[0m\u001b[0;34m)\u001b[0m\u001b[0;34m\u001b[0m\u001b[0;34m\u001b[0m\u001b[0m\n\u001b[0;32m----> 4\u001b[0;31m \u001b[0moutputCol\u001b[0m \u001b[0;34m=\u001b[0m \u001b[0massembler\u001b[0m\u001b[0;34m.\u001b[0m\u001b[0mtransform\u001b[0m\u001b[0;34m(\u001b[0m\u001b[0mdiabetes\u001b[0m\u001b[0;34m)\u001b[0m\u001b[0;34m.\u001b[0m\u001b[0mselect\u001b[0m\u001b[0;34m(\u001b[0m\u001b[0mcol\u001b[0m\u001b[0;34m(\u001b[0m\u001b[0;34m\"features\"\u001b[0m\u001b[0;34m)\u001b[0m\u001b[0;34m,\u001b[0m \u001b[0mcol\u001b[0m\u001b[0;34m(\u001b[0m\u001b[0;34m\"Outcome\"\u001b[0m\u001b[0;34m)\u001b[0m\u001b[0;34m.\u001b[0m\u001b[0malias\u001b[0m\u001b[0;34m(\u001b[0m\u001b[0;34m\"label\"\u001b[0m\u001b[0;34m)\u001b[0m\u001b[0;34m)\u001b[0m\u001b[0;34m\u001b[0m\u001b[0;34m\u001b[0m\u001b[0m\n\u001b[0m",
            "\u001b[0;31mTypeError\u001b[0m: 'str' object is not callable"
          ]
        }
      ]
    },
    {
      "cell_type": "code",
      "source": [
        "# calculer la corrélation entre la variable de réponse et les autres variables\n",
        "for  col in  diabetes.columns :\n",
        "  #print ( 'La corrélation de {} avec la variable issue est {}.' . format ( col , diabetes . stat . corr ( 'Outcome' , col )))\n",
        "  print(f'La corrélation de {col} avec la variable issue est {diabetes.stat.corr(\"Outcome\", col)}.')"
      ],
      "metadata": {
        "colab": {
          "base_uri": "https://localhost:8080/"
        },
        "id": "HNCAASkDska3",
        "outputId": "e8b0cbe2-39d9-42d1-ce05-3bf009f1d8a4"
      },
      "execution_count": 72,
      "outputs": [
        {
          "output_type": "stream",
          "name": "stdout",
          "text": [
            "La corrélation de Pregnancies avec la variable issue est 0.22443699263363961.\n",
            "La corrélation de Glucose avec la variable issue est 0.4584213024234631.\n",
            "La corrélation de BloodPressure avec la variable issue est 0.07595808358896636.\n",
            "La corrélation de SkinThickness avec la variable issue est 0.07604024696581364.\n",
            "La corrélation de Insulin avec la variable issue est 0.12092362183050201.\n",
            "La corrélation de BMI avec la variable issue est 0.27672553877003214.\n",
            "La corrélation de DiabetesPedigreeFunction avec la variable issue est 0.1554590791569403.\n",
            "La corrélation de Age avec la variable issue est 0.23650924717620253.\n",
            "La corrélation de Outcome avec la variable issue est 1.0.\n"
          ]
        }
      ]
    },
    {
      "cell_type": "markdown",
      "source": [
        "\"\"\"Les résultats de corrélation indiquant que certains facteurs peuvent avoir un impact significatif sur le résultat de la régression logistique.\n",
        "* Les variables `Glucose` et `BMI` ont les **plus fortes corrélations** avec le résultat, ce qui signifie qu'elles sont les plus susceptibles d'avoir un impact sur le résultat de la régression logistique.\n",
        "* Les variables `Pregnancies`, `BloodPressure`, `SkinThickness`, `Insulin` et `DiabetesPedigreeFunction` ont des **corrélations plus faibles** avec le résultat, ce qui signifie qu'elles sont moins susceptibles d'avoir un impact sur le résultat de la régression logistique.\n",
        "* La variable `Age` a une corrélation **modérée** avec le résultat, ce qui signifie qu'elle peut avoir un impact modéré sur le résultat de la régression logistique"
      ],
      "metadata": {
        "id": "T6hcb-H8tfmD"
      }
    },
    {
      "cell_type": "code",
      "source": [
        "# Convertir les colonnes en vecteur\n",
        "assembler = VectorAssembler(inputCols=featureCols, outputCol=\"features\")\n",
        "outputCol  =  assembler.transform (diabetes)"
      ],
      "metadata": {
        "id": "19Qn5ORjtnKO"
      },
      "execution_count": 73,
      "outputs": []
    },
    {
      "cell_type": "code",
      "source": [
        "# vérifier si la colonne features est rajoutée au dataframe\n",
        "outputCol.printSchema ()"
      ],
      "metadata": {
        "colab": {
          "base_uri": "https://localhost:8080/"
        },
        "id": "RS-vEYLuuCdb",
        "outputId": "d6a77dc0-dd17-48cb-de77-f4b604a002ae"
      },
      "execution_count": 74,
      "outputs": [
        {
          "output_type": "stream",
          "name": "stdout",
          "text": [
            "root\n",
            " |-- Pregnancies: integer (nullable = true)\n",
            " |-- Glucose: integer (nullable = true)\n",
            " |-- BloodPressure: integer (nullable = true)\n",
            " |-- SkinThickness: integer (nullable = true)\n",
            " |-- Insulin: integer (nullable = true)\n",
            " |-- BMI: double (nullable = true)\n",
            " |-- DiabetesPedigreeFunction: double (nullable = true)\n",
            " |-- Age: integer (nullable = true)\n",
            " |-- Outcome: integer (nullable = true)\n",
            " |-- features: vector (nullable = true)\n",
            "\n"
          ]
        }
      ]
    },
    {
      "cell_type": "code",
      "source": [
        "# afficher les données (3 lignes)\n",
        "outputCol.show()"
      ],
      "metadata": {
        "colab": {
          "base_uri": "https://localhost:8080/"
        },
        "id": "NjZXsC3vugEN",
        "outputId": "1e8904b1-0b01-4371-c6ea-3d21abc74d12"
      },
      "execution_count": 75,
      "outputs": [
        {
          "output_type": "stream",
          "name": "stdout",
          "text": [
            "+-----------+-------+-------------+-------------+-------+----+------------------------+---+-------+--------------------+\n",
            "|Pregnancies|Glucose|BloodPressure|SkinThickness|Insulin| BMI|DiabetesPedigreeFunction|Age|Outcome|            features|\n",
            "+-----------+-------+-------------+-------------+-------+----+------------------------+---+-------+--------------------+\n",
            "|          2|    138|           62|           35|      0|33.6|                   0.127| 47|      1|[2.0,138.0,62.0,3...|\n",
            "|          0|     84|           82|           31|    125|38.2|                   0.233| 23|      0|[0.0,84.0,82.0,31...|\n",
            "|          0|    145|            0|            0|      0|44.2|                    0.63| 31|      1|(8,[1,5,6,7],[145...|\n",
            "|          0|    135|           68|           42|    250|42.3|                   0.365| 24|      1|[0.0,135.0,68.0,4...|\n",
            "|          1|    139|           62|           41|    480|40.7|                   0.536| 21|      0|[1.0,139.0,62.0,4...|\n",
            "|          0|    173|           78|           32|    265|46.5|                   1.159| 58|      0|[0.0,173.0,78.0,3...|\n",
            "|          4|     99|           72|           17|      0|25.6|                   0.294| 28|      0|[4.0,99.0,72.0,17...|\n",
            "|          8|    194|           80|            0|      0|26.1|                   0.551| 67|      0|[8.0,194.0,80.0,0...|\n",
            "|          2|     83|           65|           28|     66|36.8|                   0.629| 24|      0|[2.0,83.0,65.0,28...|\n",
            "|          2|     89|           90|           30|      0|33.5|                   0.292| 42|      0|[2.0,89.0,90.0,30...|\n",
            "|          4|     99|           68|           38|      0|32.8|                   0.145| 33|      0|[4.0,99.0,68.0,38...|\n",
            "|          4|    125|           70|           18|    122|28.9|                   1.144| 45|      1|[4.0,125.0,70.0,1...|\n",
            "|          3|     80|            0|            0|      0| 0.0|                   0.174| 22|      0|(8,[0,1,6,7],[3.0...|\n",
            "|          6|    166|           74|            0|      0|26.6|                   0.304| 66|      0|[6.0,166.0,74.0,0...|\n",
            "|          5|    110|           68|            0|      0|26.0|                   0.292| 30|      0|[5.0,110.0,68.0,0...|\n",
            "|          2|     81|           72|           15|     76|30.1|                   0.547| 25|      0|[2.0,81.0,72.0,15...|\n",
            "|          7|    195|           70|           33|    145|25.1|                   0.163| 55|      1|[7.0,195.0,70.0,3...|\n",
            "|          6|    154|           74|           32|    193|29.3|                   0.839| 39|      0|[6.0,154.0,74.0,3...|\n",
            "|          2|    117|           90|           19|     71|25.2|                   0.313| 21|      0|[2.0,117.0,90.0,1...|\n",
            "|          3|     84|           72|           32|      0|37.2|                   0.267| 28|      0|[3.0,84.0,72.0,32...|\n",
            "+-----------+-------+-------------+-------------+-------+----+------------------------+---+-------+--------------------+\n",
            "only showing top 20 rows\n",
            "\n"
          ]
        }
      ]
    },
    {
      "cell_type": "markdown",
      "source": [
        "\"\"\"## Entrainer le modèle\"\"\""
      ],
      "metadata": {
        "id": "MlZpUow-uxpq"
      }
    },
    {
      "cell_type": "code",
      "source": [
        "# sélectionner les colonnes d'intérêt\n",
        "diabetes =  outputCol.select (\"features\", \"Result\")\n",
        "diabetes.show ( )"
      ],
      "metadata": {
        "colab": {
          "base_uri": "https://localhost:8080/",
          "height": 517
        },
        "id": "1yXp19BcuzgE",
        "outputId": "e93dee0f-88ae-4fcf-f9bf-3db393962fe1"
      },
      "execution_count": 76,
      "outputs": [
        {
          "output_type": "error",
          "ename": "AnalysisException",
          "evalue": "ignored",
          "traceback": [
            "\u001b[0;31m---------------------------------------------------------------------------\u001b[0m",
            "\u001b[0;31mAnalysisException\u001b[0m                         Traceback (most recent call last)",
            "\u001b[0;32m<ipython-input-76-f504680a1f5a>\u001b[0m in \u001b[0;36m<cell line: 2>\u001b[0;34m()\u001b[0m\n\u001b[1;32m      1\u001b[0m \u001b[0;31m# sélectionner les colonnes d'intérêt\u001b[0m\u001b[0;34m\u001b[0m\u001b[0;34m\u001b[0m\u001b[0m\n\u001b[0;32m----> 2\u001b[0;31m \u001b[0mdiabetes\u001b[0m \u001b[0;34m=\u001b[0m  \u001b[0moutputCol\u001b[0m\u001b[0;34m.\u001b[0m\u001b[0mselect\u001b[0m \u001b[0;34m(\u001b[0m\u001b[0;34m\"features\"\u001b[0m\u001b[0;34m,\u001b[0m \u001b[0;34m\"Result\"\u001b[0m\u001b[0;34m)\u001b[0m\u001b[0;34m\u001b[0m\u001b[0;34m\u001b[0m\u001b[0m\n\u001b[0m\u001b[1;32m      3\u001b[0m \u001b[0mdiabetes\u001b[0m\u001b[0;34m.\u001b[0m\u001b[0mshow\u001b[0m \u001b[0;34m(\u001b[0m \u001b[0;34m)\u001b[0m\u001b[0;34m\u001b[0m\u001b[0;34m\u001b[0m\u001b[0m\n",
            "\u001b[0;32m/usr/local/lib/python3.10/dist-packages/pyspark/sql/dataframe.py\u001b[0m in \u001b[0;36mselect\u001b[0;34m(self, *cols)\u001b[0m\n\u001b[1;32m   3034\u001b[0m         \u001b[0;34m+\u001b[0m\u001b[0;34m-\u001b[0m\u001b[0;34m-\u001b[0m\u001b[0;34m-\u001b[0m\u001b[0;34m-\u001b[0m\u001b[0;34m-\u001b[0m\u001b[0;34m+\u001b[0m\u001b[0;34m-\u001b[0m\u001b[0;34m-\u001b[0m\u001b[0;34m-\u001b[0m\u001b[0;34m+\u001b[0m\u001b[0;34m\u001b[0m\u001b[0;34m\u001b[0m\u001b[0m\n\u001b[1;32m   3035\u001b[0m         \"\"\"\n\u001b[0;32m-> 3036\u001b[0;31m         \u001b[0mjdf\u001b[0m \u001b[0;34m=\u001b[0m \u001b[0mself\u001b[0m\u001b[0;34m.\u001b[0m\u001b[0m_jdf\u001b[0m\u001b[0;34m.\u001b[0m\u001b[0mselect\u001b[0m\u001b[0;34m(\u001b[0m\u001b[0mself\u001b[0m\u001b[0;34m.\u001b[0m\u001b[0m_jcols\u001b[0m\u001b[0;34m(\u001b[0m\u001b[0;34m*\u001b[0m\u001b[0mcols\u001b[0m\u001b[0;34m)\u001b[0m\u001b[0;34m)\u001b[0m\u001b[0;34m\u001b[0m\u001b[0;34m\u001b[0m\u001b[0m\n\u001b[0m\u001b[1;32m   3037\u001b[0m         \u001b[0;32mreturn\u001b[0m \u001b[0mDataFrame\u001b[0m\u001b[0;34m(\u001b[0m\u001b[0mjdf\u001b[0m\u001b[0;34m,\u001b[0m \u001b[0mself\u001b[0m\u001b[0;34m.\u001b[0m\u001b[0msparkSession\u001b[0m\u001b[0;34m)\u001b[0m\u001b[0;34m\u001b[0m\u001b[0;34m\u001b[0m\u001b[0m\n\u001b[1;32m   3038\u001b[0m \u001b[0;34m\u001b[0m\u001b[0m\n",
            "\u001b[0;32m/usr/local/lib/python3.10/dist-packages/py4j/java_gateway.py\u001b[0m in \u001b[0;36m__call__\u001b[0;34m(self, *args)\u001b[0m\n\u001b[1;32m   1320\u001b[0m \u001b[0;34m\u001b[0m\u001b[0m\n\u001b[1;32m   1321\u001b[0m         \u001b[0manswer\u001b[0m \u001b[0;34m=\u001b[0m \u001b[0mself\u001b[0m\u001b[0;34m.\u001b[0m\u001b[0mgateway_client\u001b[0m\u001b[0;34m.\u001b[0m\u001b[0msend_command\u001b[0m\u001b[0;34m(\u001b[0m\u001b[0mcommand\u001b[0m\u001b[0;34m)\u001b[0m\u001b[0;34m\u001b[0m\u001b[0;34m\u001b[0m\u001b[0m\n\u001b[0;32m-> 1322\u001b[0;31m         return_value = get_return_value(\n\u001b[0m\u001b[1;32m   1323\u001b[0m             answer, self.gateway_client, self.target_id, self.name)\n\u001b[1;32m   1324\u001b[0m \u001b[0;34m\u001b[0m\u001b[0m\n",
            "\u001b[0;32m/usr/local/lib/python3.10/dist-packages/pyspark/errors/exceptions/captured.py\u001b[0m in \u001b[0;36mdeco\u001b[0;34m(*a, **kw)\u001b[0m\n\u001b[1;32m    173\u001b[0m                 \u001b[0;31m# Hide where the exception came from that shows a non-Pythonic\u001b[0m\u001b[0;34m\u001b[0m\u001b[0;34m\u001b[0m\u001b[0m\n\u001b[1;32m    174\u001b[0m                 \u001b[0;31m# JVM exception message.\u001b[0m\u001b[0;34m\u001b[0m\u001b[0;34m\u001b[0m\u001b[0m\n\u001b[0;32m--> 175\u001b[0;31m                 \u001b[0;32mraise\u001b[0m \u001b[0mconverted\u001b[0m \u001b[0;32mfrom\u001b[0m \u001b[0;32mNone\u001b[0m\u001b[0;34m\u001b[0m\u001b[0;34m\u001b[0m\u001b[0m\n\u001b[0m\u001b[1;32m    176\u001b[0m             \u001b[0;32melse\u001b[0m\u001b[0;34m:\u001b[0m\u001b[0;34m\u001b[0m\u001b[0;34m\u001b[0m\u001b[0m\n\u001b[1;32m    177\u001b[0m                 \u001b[0;32mraise\u001b[0m\u001b[0;34m\u001b[0m\u001b[0;34m\u001b[0m\u001b[0m\n",
            "\u001b[0;31mAnalysisException\u001b[0m: [UNRESOLVED_COLUMN.WITH_SUGGESTION] A column or function parameter with name `Result` cannot be resolved. Did you mean one of the following? [`Insulin`, `Age`, `BMI`, `features`, `Glucose`].;\n'Project [features#4816, 'Result]\n+- Project [Pregnancies#17, Glucose#18, BloodPressure#19, SkinThickness#20, Insulin#21, BMI#22, DiabetesPedigreeFunction#23, Age#24, Outcome#25, UDF(struct(Pregnancies_double_VectorAssembler_5120a9b9cdfa, cast(Pregnancies#17 as double), Glucose_double_VectorAssembler_5120a9b9cdfa, cast(Glucose#18 as double), BloodPressure_double_VectorAssembler_5120a9b9cdfa, cast(BloodPressure#19 as double), SkinThickness_double_VectorAssembler_5120a9b9cdfa, cast(SkinThickness#20 as double), Insulin_double_VectorAssembler_5120a9b9cdfa, cast(Insulin#21 as double), BMI, BMI#22, DiabetesPedigreeFunction, DiabetesPedigreeFunction#23, Age_double_VectorAssembler_5120a9b9cdfa, cast(Age#24 as double))) AS features#4816]\n   +- Relation [Pregnancies#17,Glucose#18,BloodPressure#19,SkinThickness#20,Insulin#21,BMI#22,DiabetesPedigreeFunction#23,Age#24,Outcome#25] csv\n"
          ]
        }
      ]
    },
    {
      "cell_type": "code",
      "source": [
        "# Diviser les données en ensembles d'entraînement et de test\n",
        "train_diabete, test_diabete = diabetes.randomSplit([0.7, 0.3], seed=42)"
      ],
      "metadata": {
        "id": "wFrs3e7y7d-P"
      },
      "execution_count": 86,
      "outputs": []
    },
    {
      "cell_type": "code",
      "source": [
        "# split to training (70%) and test (30%)\n",
        "train, test = test_diabete.randomSplit([0.7, 0.3])"
      ],
      "metadata": {
        "id": "ST93w0UqDBvf"
      },
      "execution_count": 96,
      "outputs": []
    },
    {
      "cell_type": "code",
      "source": [
        "# Créer le modèle\n",
        "rf = RandomForestClassifier(numTrees=10, maxDepth=5, seed=42)"
      ],
      "metadata": {
        "id": "kK2wJZOb75XE"
      },
      "execution_count": 97,
      "outputs": []
    },
    {
      "cell_type": "code",
      "source": [
        "# selectionner les colonnes d'interer\n",
        "final_df = outputCol.select('features', 'Outcome')\n",
        "final_df.show(2)"
      ],
      "metadata": {
        "colab": {
          "base_uri": "https://localhost:8080/"
        },
        "id": "zGjv7DwsFNOT",
        "outputId": "2e72f985-bac1-4bc0-a2c7-c1c2bd66c1a1"
      },
      "execution_count": 110,
      "outputs": [
        {
          "output_type": "stream",
          "name": "stdout",
          "text": [
            "+--------------------+-------+\n",
            "|            features|Outcome|\n",
            "+--------------------+-------+\n",
            "|[2.0,138.0,62.0,3...|      1|\n",
            "|[0.0,84.0,82.0,31...|      0|\n",
            "+--------------------+-------+\n",
            "only showing top 2 rows\n",
            "\n"
          ]
        }
      ]
    },
    {
      "cell_type": "code",
      "source": [
        "# split to training (70%) and test (30%)\n",
        "train, test = final_df.randomSplit([0.7, 0.3])"
      ],
      "metadata": {
        "id": "pXJCCocUFlLZ"
      },
      "execution_count": 113,
      "outputs": []
    },
    {
      "cell_type": "code",
      "source": [
        "# Créer le modèle\n",
        "models  =  LogisticRegression ( labelCol = \"Outcome\" )"
      ],
      "metadata": {
        "id": "GaaTDkFq9z8n"
      },
      "execution_count": 115,
      "outputs": []
    },
    {
      "cell_type": "code",
      "source": [
        "# entrainer le modèle\n",
        "model = models.fit(train)"
      ],
      "metadata": {
        "id": "obu2S6_iFwgT"
      },
      "execution_count": 116,
      "outputs": []
    },
    {
      "cell_type": "code",
      "source": [
        "# afficher le sommaire\n",
        "summary = model.summary"
      ],
      "metadata": {
        "id": "Yq60Rx3JF2Kv"
      },
      "execution_count": 118,
      "outputs": []
    },
    {
      "cell_type": "code",
      "source": [
        "## les prédictions\n",
        "summary.predictions.show()\n",
        "summary.predictions.describe().show()"
      ],
      "metadata": {
        "colab": {
          "base_uri": "https://localhost:8080/"
        },
        "id": "dKhnD2kWGCFQ",
        "outputId": "f4d9b63b-0a7a-48a9-c304-3cd49c4e9be4"
      },
      "execution_count": 119,
      "outputs": [
        {
          "output_type": "stream",
          "name": "stdout",
          "text": [
            "+--------------------+-------+--------------------+--------------------+----------+\n",
            "|            features|Outcome|       rawPrediction|         probability|prediction|\n",
            "+--------------------+-------+--------------------+--------------------+----------+\n",
            "|(8,[0,1,6,7],[2.0...|    0.0|[4.93115348297545...|[0.99283355618866...|       0.0|\n",
            "|(8,[0,1,6,7],[2.0...|    0.0|[4.40908067509732...|[0.98797988302053...|       0.0|\n",
            "|(8,[0,1,6,7],[2.0...|    0.0|[4.40908067509732...|[0.98797988302053...|       0.0|\n",
            "|(8,[0,1,6,7],[3.0...|    0.0|[4.53777055731574...|[0.98941599072233...|       0.0|\n",
            "|(8,[0,1,6,7],[3.0...|    0.0|[4.53777055731574...|[0.98941599072233...|       0.0|\n",
            "|(8,[0,1,6,7],[3.0...|    0.0|[4.53777055731574...|[0.98941599072233...|       0.0|\n",
            "|(8,[0,1,6,7],[3.0...|    0.0|[4.53777055731574...|[0.98941599072233...|       0.0|\n",
            "|(8,[0,1,6,7],[6.0...|    0.0|[2.94850689574716...|[0.95019287270607...|       0.0|\n",
            "|(8,[0,1,6,7],[7.0...|    0.0|[3.05293810871259...|[0.95490920369670...|       0.0|\n",
            "|(8,[0,1,6,7],[7.0...|    0.0|[3.05293810871259...|[0.95490920369670...|       0.0|\n",
            "|(8,[0,1,6,7],[10....|    1.0|[2.30698787780216...|[0.90945412082235...|       0.0|\n",
            "|(8,[0,1,6,7],[10....|    1.0|[2.30698787780216...|[0.90945412082235...|       0.0|\n",
            "|(8,[1,5,6,7],[73....|    0.0|[3.25431545801057...|[0.96282787331575...|       0.0|\n",
            "|(8,[1,5,6,7],[73....|    0.0|[3.25431545801057...|[0.96282787331575...|       0.0|\n",
            "|(8,[1,5,6,7],[99....|    0.0|[2.19437484591270...|[0.89974323165732...|       0.0|\n",
            "|(8,[1,5,6,7],[99....|    0.0|[2.19437484591270...|[0.89974323165732...|       0.0|\n",
            "|(8,[1,5,6,7],[117...|    0.0|[-0.1133164452607...|[0.47170116341593...|       1.0|\n",
            "|(8,[1,5,6,7],[117...|    0.0|[-0.1133164452607...|[0.47170116341593...|       1.0|\n",
            "|(8,[1,5,6,7],[119...|    1.0|[1.00769789308943...|[0.73256938160046...|       0.0|\n",
            "|(8,[1,5,6,7],[119...|    1.0|[1.00769789308943...|[0.73256938160046...|       0.0|\n",
            "+--------------------+-------+--------------------+--------------------+----------+\n",
            "only showing top 20 rows\n",
            "\n",
            "+-------+-------------------+-------------------+\n",
            "|summary|            Outcome|         prediction|\n",
            "+-------+-------------------+-------------------+\n",
            "|  count|               1430|               1430|\n",
            "|   mean|0.34895104895104895|0.26503496503496504|\n",
            "| stddev| 0.4768051967446513| 0.4415062235717499|\n",
            "|    min|                0.0|                0.0|\n",
            "|    max|                1.0|                1.0|\n",
            "+-------+-------------------+-------------------+\n",
            "\n"
          ]
        }
      ]
    },
    {
      "cell_type": "markdown",
      "source": [
        "\n",
        "\"\"\"## Évaluation du modèle\n",
        "`BinaryClassificationEvaluator` de pysparkML est un outil d'évaluation qui permet de **mesurer la performance d'un modèle de classification binaire**.\n",
        "Il fournit des métriques telles que la `précision`, le `rappel`, l'`aire sous la courbe ROC (AUC) : par défaut` et la `précision-rappel`. Ces métriques peuvent être utilisées pour comparer les **performances** des modèles et ainsi déterminer le meilleur modèle à utiliser.\n",
        "\"\"\""
      ],
      "metadata": {
        "id": "99lFhvRdGM3N"
      }
    },
    {
      "cell_type": "code",
      "source": [
        "# alimentez les données de test dans le modèle et évaluez-les\n",
        "predictions = model.evaluate(test)"
      ],
      "metadata": {
        "id": "vAS05kSXGY98"
      },
      "execution_count": 121,
      "outputs": []
    },
    {
      "cell_type": "code",
      "source": [
        "# Voir les prédictions\n",
        "predictions.predictions.show(10)"
      ],
      "metadata": {
        "colab": {
          "base_uri": "https://localhost:8080/"
        },
        "id": "UNAVqR-0Gwiw",
        "outputId": "30266ae8-f99e-45ae-bc6e-37c2827e40c2"
      },
      "execution_count": 123,
      "outputs": [
        {
          "output_type": "stream",
          "name": "stdout",
          "text": [
            "+--------------------+-------+--------------------+--------------------+----------+\n",
            "|            features|Outcome|       rawPrediction|         probability|prediction|\n",
            "+--------------------+-------+--------------------+--------------------+----------+\n",
            "|(8,[0,1,6,7],[2.0...|      0|[4.93115348297545...|[0.99283355618866...|       0.0|\n",
            "|(8,[0,1,6,7],[3.0...|      0|[4.53777055731574...|[0.98941599072233...|       0.0|\n",
            "|(8,[0,1,6,7],[10....|      1|[2.30698787780216...|[0.90945412082235...|       0.0|\n",
            "|(8,[1,5,6,7],[99....|      0|[2.19437484591270...|[0.89974323165732...|       0.0|\n",
            "|(8,[1,5,6,7],[119...|      1|[1.00769789308943...|[0.73256938160046...|       0.0|\n",
            "|(8,[1,5,6,7],[141...|      1|[-0.6703641093810...|[0.33841531541021...|       1.0|\n",
            "|(8,[1,5,6,7],[145...|      1|[-1.3943524140496...|[0.19871382770406...|       1.0|\n",
            "|(8,[1,5,6,7],[145...|      1|[-1.3943524140496...|[0.19871382770406...|       1.0|\n",
            "|(8,[1,5,6,7],[145...|      1|[-1.3943524140496...|[0.19871382770406...|       1.0|\n",
            "|(8,[1,6,7],[94.0,...|      0|[4.29264670479010...|[0.98651561367091...|       0.0|\n",
            "+--------------------+-------+--------------------+--------------------+----------+\n",
            "only showing top 10 rows\n",
            "\n"
          ]
        }
      ]
    },
    {
      "cell_type": "markdown",
      "source": [
        "Dans la plupart des cas (sur les 10 lignes affichées) le modele de régressin predit bien les resultats"
      ],
      "metadata": {
        "id": "ca53SlJJHEW9"
      }
    },
    {
      "cell_type": "code",
      "source": [
        "from pyspark.ml import evaluation"
      ],
      "metadata": {
        "id": "uFwCeA8tG_wq"
      },
      "execution_count": 124,
      "outputs": []
    },
    {
      "cell_type": "code",
      "source": [
        "#Evaluer le modele\n",
        "evaluator = BinaryClassificationEvaluator(rawPredictionCol='rawPrediction', labelCol='Outcome')\n",
        "evaluator.evaluate(model.transform(test))"
      ],
      "metadata": {
        "colab": {
          "base_uri": "https://localhost:8080/"
        },
        "id": "VapghXu6Hrkv",
        "outputId": "549f5e96-46fb-4820-9ce8-dd841913a31d"
      },
      "execution_count": 125,
      "outputs": [
        {
          "output_type": "execute_result",
          "data": {
            "text/plain": [
              "0.8366023166023154"
            ]
          },
          "metadata": {},
          "execution_count": 125
        }
      ]
    },
    {
      "cell_type": "markdown",
      "source": [
        "les résultats ont montré que le modéle de regression a une précision de 83%, ce qui est assez bon . Ce qui signifie que le modéle est capable de prédire avec une précision élevée si un individu aura un résultat positif (malade) ou négatif (diabétique)."
      ],
      "metadata": {
        "id": "ZdFJqAPpI3Ty"
      }
    },
    {
      "cell_type": "markdown",
      "source": [
        "# Sauvegarder le modele"
      ],
      "metadata": {
        "id": "74-o0A2xJ87_"
      }
    },
    {
      "cell_type": "markdown",
      "source": [
        "\"\"\" On sauvegarde un modèle de machine learning afin de pouvoir le réutiliser à l'avenir. En effet, une fois que le modèle a été entraîné et qu'il fonctionne de manière optimale, il est important de le sauvegarder afin de pouvoir le réutiliser pour de nouvelles prédictions. Cela permettra d'économiser du temps et des ressources, car il n'est pas nécessaire de recycler le modèle pour chaque nouvelle prédiction.\n",
        "\"\"\"\n",
        "\n",
        "\n"
      ],
      "metadata": {
        "id": "P3xG8tRzKN3a"
      }
    },
    {
      "cell_type": "code",
      "source": [
        "model.save(\"LogReg_model\")"
      ],
      "metadata": {
        "id": "dBsWXFVtKRjL"
      },
      "execution_count": 129,
      "outputs": []
    },
    {
      "cell_type": "markdown",
      "source": [
        "\"\"\"## Réutiliser le modèle sauvegardé\"\"\""
      ],
      "metadata": {
        "id": "2_kokWapKptW"
      }
    },
    {
      "cell_type": "code",
      "source": [
        "model = LogisticRegressionModel.load('LogReg_model')\n"
      ],
      "metadata": {
        "id": "SPtfAKSyKqzR"
      },
      "execution_count": 132,
      "outputs": []
    }
  ]
}